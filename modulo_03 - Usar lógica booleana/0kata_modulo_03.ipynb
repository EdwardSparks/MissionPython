{
 "cells": [
  {
   "cell_type": "markdown",
   "metadata": {},
   "source": [
    "## Ejercicio - Escribir declaraciones if, else, y elif\n"
   ]
  },
  {
   "cell_type": "markdown",
   "metadata": {},
   "source": [
    "Para este ejercicio, escribirás una lógica condicional que imprima una advertencia si un asteroide se acerca a la Tierra demasiado rápido. La velocidad del asteroide varía dependiendo de lo cerca que esté del sol, y cualquier velocidad superior a 25 kilómetros por segundo (km/s) merece una advertencia.\n",
    "\n",
    "Un asteroide se acerca, y viaja a una velocidad de 49 km/s."
   ]
  },
  {
   "cell_type": "code",
   "execution_count": null,
   "metadata": {},
   "outputs": [],
   "source": [
    "asteroid_speed = 49\n",
    "if asteroid_speed > 25:\n",
    "    print(\"ADVERTENCIA\")\n",
    "    print(\"Velocidad del asteroide: \" + str(asteroid_speed) + \"Km/s\")\n",
    "    print(\"Se ha detectado un asteroide con exceso de velocidad\")\n",
    "else:\n",
    "    print(\"No se ha detectado asteroides.\")"
   ]
  },
  {
   "cell_type": "markdown",
   "metadata": {},
   "source": [
    "Si un asteroide entra en la atmósfera de la Tierra a una velocidad mayor o igual a 20 km/s, a veces produce un rayo de luz que se puede ver desde la Tierra. Escribe la lógica condicional que usa declaraciones if, else, y elif para alertar a las personas de todo el mundo que deben buscar un asteroide en el cielo. ¡Hay uno que se dirige a la tierra ahora a una velocidad de 19 km/s!"
   ]
  },
  {
   "cell_type": "code",
   "execution_count": null,
   "metadata": {},
   "outputs": [],
   "source": [
    "asteroid_speed = 21\n",
    "if asteroid_speed > 20:\n",
    "    print(\"¡Asteroide detectado!\")\n",
    "    print(\"Velocidad del asteroide: \" + str(asteroid_speed) + \"Km/s\")\n",
    "    print(\"Un asteroide observable a irrumpido en la armósfera\")\n",
    "elif asteroid_speed == 20:\n",
    "    print(\"¡Asteroide detectado!\")\n",
    "    print(\"Velocidad del asteroide: \" + str(asteroid_speed) + \"Km/s\")\n",
    "    print(\"Un asteroide observable a irrumpido en la armósfera\")\n",
    "else:\n",
    "    print(\"No se han detectado asteroides.\")"
   ]
  },
  {
   "cell_type": "markdown",
   "metadata": {},
   "source": [
    "En este ejercicio, aprenderás información más matizada sobre cuándo los asteroides representan un peligro para la Tierra, y utilizarás esa información para mejorar nuestro sistema de advertencia. Aquí está la nueva información que necesitas saber:\n",
    "\n",
    "*Los asteroides de menos de 25 metros en su dimensión más grande probablemente se quemarán a medida que entren en la atmósfera de la Tierra.\n",
    "\n",
    "Si una pieza de un asteroide que es más grande que 25 metros pero más pequeña que 1000 metros golpeara la Tierra, causaría mucho daño.\n",
    "También discutimos en el ejercicio anterior que:\n",
    "\n",
    "La velocidad del asteroide varía en función de lo cerca que esté del sol, y cualquier velocidad superior a 25 kilómetros por segundo (km/s) merece una advertencia.\n",
    "Si un asteroide entra en la atmósfera de la Tierra a una velocidad mayor o igual a 20 km/s, a veces produce un rayo de luz que se puede ver desde la Tierra.\n",
    "Usando toda esta información, escribe un programa que emita la advertencia o información correcta a la gente de la Tierra, según la velocidad y el tamaño de un asteroide. Utiliza instrucciones if, else, y elif, así como los operadores and y or."
   ]
  },
  {
   "cell_type": "code",
   "execution_count": null,
   "metadata": {},
   "outputs": [],
   "source": [
    "speed = 25 \n",
    "detected = 20\n",
    "dimensions = 25\n",
    "\n",
    "asteroid_speed = 100\n",
    "asteroid_dimensions = 100\n",
    "\n",
    "if asteroid_dimensions > dimensions and asteroid_speed > speed:\n",
    "    print(\"¡PELIGRO! Se ha detectado un asteroide con reiesgo de colision inminete\")\n",
    "elif asteroid_speed >= detected:\n",
    "    print(\"Un asteroide observable a irrumpido en la armósfera\")\n",
    "elif asteroid_dimensions < dimensions:\n",
    "    print(\"No se han detectado asteroides.\")\n",
    "else:\n",
    "    print(\"No se han detectado asteroides.\")\n"
   ]
  },
  {
   "cell_type": "markdown",
   "metadata": {},
   "source": [
    "---\n",
    "Curso Propedútico de Python para Launch X - Innovacción Virtual.\n",
    "\n",
    "Material desarrollado con base en los contenidos de MSLearn y la metáfora de LaunchX, traducción e implementación por: Fernanda Ochoa - Learning Producer de LaunchX.\n",
    "\n",
    "Este materia fue desrrollado en base en los contenidos de Onboarding Launch X BET por: Edward Sparks.\n",
    "\n",
    "Redes:\n",
    "* GitHub: [FernandaOchoa](https://github.com/FernandaOchoa)\n",
    "* Twitter: [@imonsh](https://twitter.com/imonsh)\n",
    "* Instagram: [fherz8a](https://www.instagram.com/fherz8a/)\n",
    "* Github: [EdwardSparks](https://github.com/EdwardSparks)"
   ]
  }
 ],
 "metadata": {
  "interpreter": {
   "hash": "1ba6f2e40bed5d12fc4b38d9ce3cc866916087d625901c812a6ec698be856d34"
  },
  "kernelspec": {
   "display_name": "Python 3.10.2 64-bit",
   "language": "python",
   "name": "python3"
  },
  "language_info": {
   "codemirror_mode": {
    "name": "ipython",
    "version": 3
   },
   "file_extension": ".py",
   "mimetype": "text/x-python",
   "name": "python",
   "nbconvert_exporter": "python",
   "pygments_lexer": "ipython3",
   "version": "3.10.2"
  },
  "orig_nbformat": 4
 },
 "nbformat": 4,
 "nbformat_minor": 2
}
