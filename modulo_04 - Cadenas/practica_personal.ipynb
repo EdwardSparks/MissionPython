{
 "cells": [
  {
   "cell_type": "markdown",
   "metadata": {},
   "source": [
    "# Practica"
   ]
  },
  {
   "cell_type": "code",
   "execution_count": null,
   "metadata": {},
   "outputs": [],
   "source": [
    "#Las cadenas no se alteran\n",
    "\n",
    "cadena1 = 'hola '\n",
    "cadena1 = cadena1 + 'mundo'\n",
    "print(cadena1)"
   ]
  },
  {
   "cell_type": "code",
   "execution_count": null,
   "metadata": {},
   "outputs": [],
   "source": [
    "#En este ejemplo \n",
    "cadena1 = 'hola '\n",
    "print(cadena1 + \"mundo\")\n",
    "print(cadena1)"
   ]
  },
  {
   "cell_type": "code",
   "execution_count": null,
   "metadata": {},
   "outputs": [],
   "source": [
    "#Salto de linea con triple comillas\n",
    "cadena2 = \"\"\"Listas de participantes:\n",
    "Edward\n",
    "Edwin\n",
    "Erick\"\"\"\n",
    "print(cadena2)"
   ]
  },
  {
   "cell_type": "code",
   "execution_count": null,
   "metadata": {},
   "outputs": [],
   "source": [
    "#Por lo que veo no pueden haber 2 o mas titulos\n",
    "print('temperatures and facts about the moon'.title())\n",
    "\n",
    "titulo = 'Este es mi titulo'\n",
    "titulo.title()\n"
   ]
  },
  {
   "cell_type": "code",
   "execution_count": null,
   "metadata": {},
   "outputs": [],
   "source": [
    "# crea una lista, usa los espacios para separar la cadena\n",
    "Temperaturas = '''Dia: 260 F\n",
    "Noche: -280 F'''\n",
    "Temperaturas.split()"
   ]
  },
  {
   "cell_type": "code",
   "execution_count": null,
   "metadata": {},
   "outputs": [],
   "source": [
    "#usa el salto de linea para separar la cadena\n",
    "Temperaturas.split('\\n')\n"
   ]
  },
  {
   "cell_type": "code",
   "execution_count": null,
   "metadata": {},
   "outputs": [],
   "source": [
    "# une lista, \n",
    "\n",
    "moon_facts = ['The Moon is drifting away from the Earth.', 'On average, the Moon is moving about 4cm every year']\n",
    "print(moon_facts)\n",
    "moon_facts = '\\n'.join(moon_facts)\n",
    "print(moon_facts)\n",
    "moon_facts.replace('\\n', ' ')"
   ]
  },
  {
   "cell_type": "code",
   "execution_count": null,
   "metadata": {},
   "outputs": [],
   "source": [
    "#usa la funcion format para integrar datos al texto\n",
    "mass_percentage = '1/6'\n",
    "print(\"\"\"You are lighter on the {0}, because on the {0} \\\n",
    "you would weigh about {1} of your weight on Earth\"\"\".format(\"Moon\", mass_percentage))"
   ]
  }
 ],
 "metadata": {
  "interpreter": {
   "hash": "1ba6f2e40bed5d12fc4b38d9ce3cc866916087d625901c812a6ec698be856d34"
  },
  "kernelspec": {
   "display_name": "Python 3.10.2 64-bit",
   "language": "python",
   "name": "python3"
  },
  "language_info": {
   "codemirror_mode": {
    "name": "ipython",
    "version": 3
   },
   "file_extension": ".py",
   "mimetype": "text/x-python",
   "name": "python",
   "nbconvert_exporter": "python",
   "pygments_lexer": "ipython3",
   "version": "3.10.2"
  },
  "orig_nbformat": 4
 },
 "nbformat": 4,
 "nbformat_minor": 2
}
