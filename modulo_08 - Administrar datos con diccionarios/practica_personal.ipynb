{
 "cells": [
  {
   "cell_type": "code",
   "execution_count": null,
   "metadata": {},
   "outputs": [],
   "source": [
    "#Creación de un diccionario:\n",
    "planet = {'name':'Earth', 'moons':1}\n"
   ]
  },
  {
   "cell_type": "code",
   "execution_count": null,
   "metadata": {},
   "outputs": [],
   "source": [
    "#Lectura de los valores de un diccionario:\n",
    "#si no se encuetra regresa un \"None\"\n",
    "print(planet.get('name'))\n",
    "\n",
    "#Si no se ecuentra regresa un \"KeyError\"\n",
    "print(planet.get['name'])\n"
   ]
  },
  {
   "cell_type": "code",
   "execution_count": null,
   "metadata": {},
   "outputs": [],
   "source": [
    "#Modificación de valores de un diccionario:\n",
    "#Usa \".update\" para modificar un valor\n",
    "planet.update({'name':'Makemake'})\n",
    "# O directamente lo igualas\n",
    "planet['name'] = 'Makemake'\n"
   ]
  },
  {
   "cell_type": "code",
   "execution_count": null,
   "metadata": {},
   "outputs": [],
   "source": [
    "\"\"\"Ten en cuenta que al usar update realizas una sola llamada a la función, mientras que el uso de corchetes implica dos llamadas.\"\"\"\n",
    "# Usando update\n",
    "planet.update({'name': 'Jupiter','moons': 79})\n",
    "\n",
    "# Usando corchetes\n",
    "planet['name'] = 'Jupiter'\n",
    "planet['moons'] = 79"
   ]
  },
  {
   "cell_type": "code",
   "execution_count": null,
   "metadata": {},
   "outputs": [],
   "source": [
    "#Eliminación de claves se usa \".pop\"\n",
    "planet.pop('orbital period')"
   ]
  },
  {
   "cell_type": "code",
   "execution_count": null,
   "metadata": {},
   "outputs": [],
   "source": [
    "#Todavia no entiendo para que es el .key()\n",
    "rainfall = {'october': 3.5, 'november': 4.2, 'december': 2.1}\n",
    "for key in rainfall.keys():\n",
    "    print(key)  # Ahora entiendo que el key convierte el diccionario en lista.\n",
    "    print(rainfall.values()) #Devuelbe solo los valores\n",
    "    print(f'{key}: {rainfall[key]}cm')\n",
    "# Es interesante ver como los dos puntos desaparecen"
   ]
  }
 ],
 "metadata": {
  "interpreter": {
   "hash": "1ba6f2e40bed5d12fc4b38d9ce3cc866916087d625901c812a6ec698be856d34"
  },
  "kernelspec": {
   "display_name": "Python 3.10.2 64-bit",
   "language": "python",
   "name": "python3"
  },
  "language_info": {
   "codemirror_mode": {
    "name": "ipython",
    "version": 3
   },
   "file_extension": ".py",
   "mimetype": "text/x-python",
   "name": "python",
   "nbconvert_exporter": "python",
   "pygments_lexer": "ipython3",
   "version": "3.10.2"
  },
  "orig_nbformat": 4
 },
 "nbformat": 4,
 "nbformat_minor": 2
}
